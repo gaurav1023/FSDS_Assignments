{
 "cells": [
  {
   "cell_type": "markdown",
   "id": "02104277-2f71-4cdc-960e-73b80b0ccbaa",
   "metadata": {},
   "source": [
    "<p style=\"text-align: right;\">19 August 2023</p>\n",
    "<h1 style=\"text-align: center;\">Python Basics Assignment</h1>"
   ]
  },
  {
   "cell_type": "markdown",
   "id": "fb01a07e-09ef-4337-add6-811bbe090e7d",
   "metadata": {},
   "source": [
    "## TOPIC: Python Basics Variable"
   ]
  },
  {
   "cell_type": "markdown",
   "id": "70974da4-5102-4100-b33b-2d10a5ec962c",
   "metadata": {},
   "source": [
    "1. Declare two variables, `x` and `y`, and assign them integer values. Swap the values of these variables without using any temporary variable."
   ]
  },
  {
   "cell_type": "code",
   "execution_count": 3,
   "id": "63fc86c1-897b-4940-a1c4-3df87cacbe2c",
   "metadata": {},
   "outputs": [
    {
     "name": "stdout",
     "output_type": "stream",
     "text": [
      "x after swap:  5\n",
      "y after swap:  10\n"
     ]
    }
   ],
   "source": [
    "x = 10\n",
    "y = 5\n",
    "\n",
    "x = x + y\n",
    "y = x - y\n",
    "x = x - y\n",
    "\n",
    "print(\"x after swap: \",x)\n",
    "print(\"y after swap: \",y)"
   ]
  },
  {
   "cell_type": "markdown",
   "id": "502651c2-ff09-4c1f-ad9e-74858e65e787",
   "metadata": {},
   "source": [
    "2. Create a program that calculates the area of a rectangle. Take the length and width as inputs from the user and store them in variables. Calculate and display the area."
   ]
  },
  {
   "cell_type": "code",
   "execution_count": 7,
   "id": "6623b6cc-10f9-4301-b042-685d0c7f3118",
   "metadata": {},
   "outputs": [
    {
     "name": "stdout",
     "output_type": "stream",
     "text": [
      "Enter the values below to fins the area of rectangle\n"
     ]
    },
    {
     "name": "stdin",
     "output_type": "stream",
     "text": [
      "Length:  1\n",
      "Width:  2\n"
     ]
    },
    {
     "name": "stdout",
     "output_type": "stream",
     "text": [
      "The area of rectangle is  2.0\n"
     ]
    }
   ],
   "source": [
    "print(\"Enter the values below to fins the area of rectangle\")\n",
    "\n",
    "length = float(input(\"Length: \"))\n",
    "width = float(input(\"Width: \"))\n",
    "\n",
    "area = length * width\n",
    "\n",
    "print(\"The area of rectangle is \", area)"
   ]
  },
  {
   "cell_type": "markdown",
   "id": "8e6b750f-c0df-4b99-b284-9a312d7a2299",
   "metadata": {},
   "source": [
    "3. Write a Python program that converts temperatures from Celsius to Fahrenheit. Take the temperature in Celsius as input, store it in a variable, convert it to Fahrenheit, and display the result."
   ]
  },
  {
   "cell_type": "code",
   "execution_count": 9,
   "id": "afbe33c4-c367-4373-ac52-9fcabb616cc3",
   "metadata": {},
   "outputs": [
    {
     "name": "stdout",
     "output_type": "stream",
     "text": [
      "Celcius to Fahrenheit Convertor\n"
     ]
    },
    {
     "name": "stdin",
     "output_type": "stream",
     "text": [
      "Enter temperature in Celcius:  25\n"
     ]
    },
    {
     "name": "stdout",
     "output_type": "stream",
     "text": [
      "The temperature is Fahrenheit is:  77.0\n"
     ]
    }
   ],
   "source": [
    "print(\"Celcius to Fahrenheit Convertor\")\n",
    "\n",
    "c = float(input(\"Enter temperature in Celcius: \"))\n",
    "\n",
    "f = (c * (9/5)) + 32\n",
    "\n",
    "print(\"The temperature is Fahrenheit is: \", f)"
   ]
  },
  {
   "cell_type": "markdown",
   "id": "5cf156f5-1b35-4a3e-8606-16fc3b389704",
   "metadata": {},
   "source": [
    "## TOPIC: String Based Questions"
   ]
  },
  {
   "cell_type": "markdown",
   "id": "e76b6bbd-dfc4-4964-8514-8ea7787ca497",
   "metadata": {},
   "source": [
    "1. Write a Python program that takes a string as input and prints the length of the string."
   ]
  },
  {
   "cell_type": "code",
   "execution_count": 12,
   "id": "c9266cf5-acd6-4d59-a81d-fd2af608e940",
   "metadata": {},
   "outputs": [
    {
     "name": "stdout",
     "output_type": "stream",
     "text": [
      "Length of string:\n"
     ]
    },
    {
     "name": "stdin",
     "output_type": "stream",
     "text": [
      "Enter your string here:  ljfdgbvsald suofhsd ofhdsuiofefIHWOUI FHWEU FH WEUFHWEO HFEfI\n"
     ]
    },
    {
     "name": "stdout",
     "output_type": "stream",
     "text": [
      "Length of your string is:  61\n"
     ]
    }
   ],
   "source": [
    "print(\"Length of string:\")\n",
    "\n",
    "input_string = input(\"Enter your string here: \")\n",
    "\n",
    "string_length = len(input_string)\n",
    "\n",
    "print(\"Length of your string is: \", string_length)"
   ]
  },
  {
   "cell_type": "markdown",
   "id": "f9c07f31-fa49-4ac6-802b-0985c53be6d3",
   "metadata": {},
   "source": [
    "2. Create a program that takes a sentence from the user and counts the number of vowels (a, e, i, o, u) in the string."
   ]
  },
  {
   "cell_type": "code",
   "execution_count": 15,
   "id": "17d11bf7-1a5a-42df-90c5-90680ec91889",
   "metadata": {},
   "outputs": [
    {
     "name": "stdout",
     "output_type": "stream",
     "text": [
      "Vowel counter\n"
     ]
    },
    {
     "name": "stdin",
     "output_type": "stream",
     "text": [
      "Enter your sentence:  I have a dog.\n"
     ]
    },
    {
     "name": "stdout",
     "output_type": "stream",
     "text": [
      "Total number of vowels in your sentence:  5\n"
     ]
    }
   ],
   "source": [
    "print(\"Vowel counter\")\n",
    "\n",
    "s = input(\"Enter your sentence: \")\n",
    "\n",
    "a_count = s.count('a')\n",
    "A_count = s.count('A')\n",
    "e_count = s.count('e')\n",
    "E_count = s.count('E')\n",
    "i_count = s.count('i')\n",
    "I_count = s.count('I')\n",
    "o_count = s.count('o')\n",
    "O_count = s.count('O')\n",
    "u_count = s.count('u')\n",
    "U_count = s.count('U')\n",
    "\n",
    "total_vowels = a_count + A_count + e_count + E_count + i_count + I_count + o_count + O_count + u_count + U_count\n",
    "\n",
    "print(\"Total number of vowels in your sentence: \", total_vowels)"
   ]
  },
  {
   "cell_type": "markdown",
   "id": "3f451409-c9fc-4044-91f1-208234112ec2",
   "metadata": {},
   "source": [
    "3. Given a string, reverse the order of characters using string slicing and print the reversed string."
   ]
  },
  {
   "cell_type": "code",
   "execution_count": 17,
   "id": "4af324ae-5f9a-4608-9317-efc4250121e2",
   "metadata": {},
   "outputs": [
    {
     "name": "stdin",
     "output_type": "stream",
     "text": [
      "Enter string:  hello\n"
     ]
    },
    {
     "name": "stdout",
     "output_type": "stream",
     "text": [
      "Reversed string:  olleh\n"
     ]
    }
   ],
   "source": [
    "input_string = input(\"Enter string: \")\n",
    "\n",
    "reversed_string = input_string[::-1]\n",
    "\n",
    "print(\"Reversed string: \", reversed_string)"
   ]
  },
  {
   "cell_type": "markdown",
   "id": "e029cbf0-03f1-4c72-974a-bc40c3d75019",
   "metadata": {},
   "source": [
    "4. Write a program that takes a string as input and checks if it is a palindrome (reads the same forwards and backwards)."
   ]
  },
  {
   "cell_type": "code",
   "execution_count": 23,
   "id": "d89b0740-c459-4a3e-be85-2a53dd1755ad",
   "metadata": {},
   "outputs": [
    {
     "name": "stdout",
     "output_type": "stream",
     "text": [
      "Check if is a string is a palindrome\n"
     ]
    },
    {
     "name": "stdin",
     "output_type": "stream",
     "text": [
      "Enter your string:  fxdgvb\n"
     ]
    },
    {
     "name": "stdout",
     "output_type": "stream",
     "text": [
      "The string is not a palindrome.\n"
     ]
    }
   ],
   "source": [
    "print(\"Check if is a string is a palindrome\")\n",
    "\n",
    "input_string = input(\"Enter your string: \")\n",
    "reversed_string = input_string[::-1]\n",
    "\n",
    "if input_string == input_string[::-1]:\n",
    "    print(\"The string is a palindrome.\")\n",
    "else: \n",
    "    print(\"The string is not a palindrome.\")"
   ]
  },
  {
   "cell_type": "markdown",
   "id": "64ccee24-8d20-4402-b84a-8e4b31b86abe",
   "metadata": {},
   "source": [
    "5. Create a program that takes a string as input and removes all the spaces from it. Print the modified string without spaces."
   ]
  },
  {
   "cell_type": "code",
   "execution_count": 24,
   "id": "d2cc80d1-b4ed-4d7f-b27c-34b4f2742861",
   "metadata": {},
   "outputs": [
    {
     "name": "stdout",
     "output_type": "stream",
     "text": [
      " String space remover\n"
     ]
    },
    {
     "name": "stdin",
     "output_type": "stream",
     "text": [
      "Enter your string:  h ell o\n"
     ]
    },
    {
     "name": "stdout",
     "output_type": "stream",
     "text": [
      "Here's the modified string without spaces:  hello\n"
     ]
    }
   ],
   "source": [
    "print(\" String space remover\")\n",
    "\n",
    "input_string = input(\"Enter your string: \")\n",
    "rs_string = input_string.replace(\" \",\"\")\n",
    "\n",
    "print(\"Here's the modified string without spaces: \", rs_string)"
   ]
  },
  {
   "cell_type": "markdown",
   "id": "72a981bd-fe95-4d7b-a2f1-0b9cb5ccf368",
   "metadata": {},
   "source": [
    "---"
   ]
  }
 ],
 "metadata": {
  "kernelspec": {
   "display_name": "Python 3 (ipykernel)",
   "language": "python",
   "name": "python3"
  },
  "language_info": {
   "codemirror_mode": {
    "name": "ipython",
    "version": 3
   },
   "file_extension": ".py",
   "mimetype": "text/x-python",
   "name": "python",
   "nbconvert_exporter": "python",
   "pygments_lexer": "ipython3",
   "version": "3.10.8"
  }
 },
 "nbformat": 4,
 "nbformat_minor": 5
}
